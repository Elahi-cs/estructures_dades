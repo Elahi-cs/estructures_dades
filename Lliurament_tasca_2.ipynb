{
 "cells": [
  {
   "cell_type": "markdown",
   "metadata": {},
   "source": [
    "## Liurament tasca 2: Estructura de dades"
   ]
  },
  {
   "cell_type": "markdown",
   "metadata": {},
   "source": [
    "### Exercici 1:\n",
    "\n",
    "**Crea una llista que agrupi els mesos de l’any en trimestres (1T: Gener, Febrer i Març, 2T: Abril, Maig, Juny...), és a dir, una llista amb 4 llistes dins.**"
   ]
  },
  {
   "cell_type": "code",
   "execution_count": 1,
   "metadata": {},
   "outputs": [],
   "source": [
    "mesos_trimestres = [[\"Gener\", \"Febrer\", \"Març\"], [\"Abril\", \"Maig\", \"Juny\"], \n",
    "                     [\"Juliol\", \"Agost\", \"Setembre\"], [\"Octubre\", \"Novembre\", \"Desembre\"]]"
   ]
  },
  {
   "cell_type": "markdown",
   "metadata": {},
   "source": [
    "### Exercici 2:\n",
    "\n",
    "**Crea un codi que et permeti accedir a:**\n",
    "* El segon mes del primer trimestre\n",
    "* Els mesos del primer trimestre\n",
    "* Setembre i octubre"
   ]
  },
  {
   "cell_type": "code",
   "execution_count": 2,
   "metadata": {
    "scrolled": true
   },
   "outputs": [],
   "source": [
    "mes1_trimestre1 = mesos_trimestres[0][1]\n",
    "primer_trimestre = mesos_trimestres[0]\n",
    "setembre_octubre = [mesos_trimestres[2][2], mesos_trimestres[3][0]]"
   ]
  },
  {
   "cell_type": "markdown",
   "metadata": {},
   "source": [
    "### Exercici 3:\n",
    "\n",
    "**Crea una llista amb nombres desordenats i respon a les següents preguntes:**\n",
    "\n",
    "* Quants números hi ha?\n",
    "* Quantes vegades apareix el número 3\n",
    "* Quantes vegades apareixen els nombres 3 i 4?\n",
    "* Quin és el número més gran?\n",
    "* Quins són els 3 números més petits?\n",
    "* Quin és el rang d’aquesta llista?\n",
    "\n",
    "Per a assegurar una feina més minuciosa, crearé una llista aleatoria per a aquest exercici."
   ]
  },
  {
   "cell_type": "code",
   "execution_count": 3,
   "metadata": {
    "scrolled": true
   },
   "outputs": [
    {
     "name": "stdout",
     "output_type": "stream",
     "text": [
      "Llista desordenada:\n",
      "[6, 7, 9, 7, 9, 3, 4, 7, 5, 1]\n"
     ]
    }
   ],
   "source": [
    "import random\n",
    "\n",
    "llista_nombres_desordenats = [random.randint(0, 10) for num in range(0, 10)]\n",
    "print(\"Llista desordenada:\")\n",
    "print(llista_nombres_desordenats)"
   ]
  },
  {
   "cell_type": "code",
   "execution_count": 4,
   "metadata": {},
   "outputs": [
    {
     "name": "stdout",
     "output_type": "stream",
     "text": [
      "Quants números hi ha? 10\n"
     ]
    }
   ],
   "source": [
    "numeros_en_llista = len(llista_nombres_desordenats)\n",
    "print(f\"Quants números hi ha? {numeros_en_llista}\")"
   ]
  },
  {
   "cell_type": "code",
   "execution_count": 5,
   "metadata": {},
   "outputs": [
    {
     "name": "stdout",
     "output_type": "stream",
     "text": [
      "Quantes vegades apareix el número 3? 1\n"
     ]
    }
   ],
   "source": [
    "quants_3 = llista_nombres_desordenats.count(3)\n",
    "print(f\"Quantes vegades apareix el número 3? {quants_3}\")"
   ]
  },
  {
   "cell_type": "code",
   "execution_count": 6,
   "metadata": {},
   "outputs": [
    {
     "name": "stdout",
     "output_type": "stream",
     "text": [
      "Quantes vegades apareixen els nombres 3 i 4? 2\n"
     ]
    }
   ],
   "source": [
    "quants_3_4 = quants_3 + llista_nombres_desordenats.count(4)\n",
    "print(f\"Quantes vegades apareixen els nombres 3 i 4? {quants_3_4}\")"
   ]
  },
  {
   "cell_type": "code",
   "execution_count": 7,
   "metadata": {},
   "outputs": [
    {
     "name": "stdout",
     "output_type": "stream",
     "text": [
      "Quin es el número més gran? 9\n"
     ]
    }
   ],
   "source": [
    "numero_mes_gran = max(llista_nombres_desordenats)\n",
    "print(f\"Quin es el número més gran? {numero_mes_gran}\")"
   ]
  },
  {
   "cell_type": "code",
   "execution_count": 8,
   "metadata": {},
   "outputs": [
    {
     "name": "stdout",
     "output_type": "stream",
     "text": [
      "Quins són els 3 números més petits? [1, 3, 4]\n"
     ]
    }
   ],
   "source": [
    "tres_numeros_petits = sorted(llista_nombres_desordenats)[0:3]\n",
    "print(f\"Quins són els 3 números més petits? {tres_numeros_petits}\")"
   ]
  },
  {
   "cell_type": "code",
   "execution_count": 9,
   "metadata": {
    "scrolled": true
   },
   "outputs": [
    {
     "name": "stdout",
     "output_type": "stream",
     "text": [
      "Quin és el rang d'aquesta llista? 8\n"
     ]
    }
   ],
   "source": [
    "rang_llista = numero_mes_gran - min(llista_nombres_desordenats)\n",
    "print(f\"Quin és el rang d'aquesta llista? {rang_llista}\")"
   ]
  },
  {
   "cell_type": "markdown",
   "metadata": {},
   "source": [
    "### Exercici 4:\n",
    "\n",
    "**Crea un diccionari de la següent forma i respon a les preguntes:**\n",
    "\n",
    "```python\n",
    "compra = { \"Pomes\" : {\"Qty\": 5, \"€\": 0.42}, \"Peres\" : {\"Qty\": 3, \"€\": 0.66}}\n",
    "```\n",
    "\n",
    "* Afegeix alguna fruita més\n",
    "* Quant han costat les peres en total?\n",
    "* Quantes fruites hem comprat en total?\n",
    "* Quina és la fruita més cara?"
   ]
  },
  {
   "cell_type": "code",
   "execution_count": 10,
   "metadata": {},
   "outputs": [
    {
     "name": "stdout",
     "output_type": "stream",
     "text": [
      "{'Pomes': {'Qty': 5, '€': 0.42}, 'Peres': {'Qty': 3, '€': 0.66}, 'Platans': {'Qty': 2, '€': 0.48}}\n"
     ]
    }
   ],
   "source": [
    "compra = {\"Pomes\" : {\"Qty\": 5, \"€\": 0.42}, \"Peres\" : {\"Qty\": 3, \"€\": 0.66}}\n",
    "\n",
    "# Afegim una fruita més\n",
    "compra[\"Platans\"] = {\"Qty\": 2, \"€\": 0.48}\n",
    "\n",
    "print(compra)"
   ]
  },
  {
   "cell_type": "code",
   "execution_count": 11,
   "metadata": {},
   "outputs": [
    {
     "name": "stdout",
     "output_type": "stream",
     "text": [
      "Quant han costat les peres en total? 1.98\n"
     ]
    }
   ],
   "source": [
    "total_peres = compra[\"Peres\"][\"Qty\"] * compra[\"Peres\"][\"€\"]\n",
    "print(f\"Quant han costat les peres en total? {total_peres}\")"
   ]
  },
  {
   "cell_type": "code",
   "execution_count": 12,
   "metadata": {},
   "outputs": [
    {
     "name": "stdout",
     "output_type": "stream",
     "text": [
      "Quantes fruites hem comprat en total? 10\n"
     ]
    }
   ],
   "source": [
    "total_fruites = 0\n",
    "for fruit in compra:\n",
    "    total_fruites += compra[fruit][\"Qty\"]\n",
    "    \n",
    "print(f\"Quantes fruites hem comprat en total? {total_fruites}\")"
   ]
  },
  {
   "cell_type": "code",
   "execution_count": 16,
   "metadata": {},
   "outputs": [
    {
     "name": "stdout",
     "output_type": "stream",
     "text": [
      "Quina és la fruita més cara? Peres\n"
     ]
    }
   ],
   "source": [
    "llista_preus = []\n",
    "for fruit in compra:\n",
    "    llista_preus.append(compra[fruit][\"€\"])\n",
    "max_preu = max(llista_preus)\n",
    "\n",
    "for fruit in compra:\n",
    "    if compra[fruit][\"€\"] == max_preu:\n",
    "        print(f\"Quina és la fruita més cara? {fruit}\")"
   ]
  }
 ],
 "metadata": {
  "kernelspec": {
   "display_name": "Python 3",
   "language": "python",
   "name": "python3"
  },
  "language_info": {
   "codemirror_mode": {
    "name": "ipython",
    "version": 3
   },
   "file_extension": ".py",
   "mimetype": "text/x-python",
   "name": "python",
   "nbconvert_exporter": "python",
   "pygments_lexer": "ipython3",
   "version": "3.8.5"
  }
 },
 "nbformat": 4,
 "nbformat_minor": 4
}
